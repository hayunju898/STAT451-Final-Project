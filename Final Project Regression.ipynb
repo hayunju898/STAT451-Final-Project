{
 "cells": [
  {
   "cell_type": "code",
   "execution_count": 5,
   "id": "e08b62b7-69f0-44a3-8e37-466f211d2742",
   "metadata": {},
   "outputs": [],
   "source": [
    "import pandas as pd \n",
    "import numpy as np \n",
    "import matplotlib.pyplot as plt\n",
    "from sklearn.preprocessing import StandardScaler, PowerTransformer\n",
    "import pandas as pd\n",
    "from sklearn.model_selection import train_test_split\n",
    "from sklearn.preprocessing import StandardScaler\n",
    "from sklearn.linear_model import LinearRegression, Lasso, Ridge\n",
    "from sklearn.ensemble import RandomForestRegressor, GradientBoostingRegressor\n",
    "from sklearn.metrics import mean_squared_error"
   ]
  },
  {
   "cell_type": "code",
   "execution_count": 29,
   "id": "b8727c5e-1e7d-46d9-a017-a09ef3a94b05",
   "metadata": {},
   "outputs": [
    {
     "data": {
      "text/plain": [
       "track_popularity   -0.481222\n",
       "danceability       -0.043595\n",
       "energy             -0.099639\n",
       "key                -0.248088\n",
       "loudness           -0.003601\n",
       "mode               -0.245655\n",
       "speechiness         0.501093\n",
       "acousticness        0.401657\n",
       "instrumentalness    1.731268\n",
       "liveness            0.306455\n",
       "valence            -0.037829\n",
       "tempo               0.020758\n",
       "duration_ms         1.169463\n",
       "dtype: float64"
      ]
     },
     "execution_count": 29,
     "metadata": {},
     "output_type": "execute_result"
    }
   ],
   "source": [
    "import pandas as pd\n",
    "import numpy as np\n",
    "from sklearn.preprocessing import PowerTransformer\n",
    "\n",
    "df = pd.read_csv(r\"spotify_songs.csv\")\n",
    "\n",
    "df['track_album_release_date'] = pd.to_datetime(df['track_album_release_date'], errors='coerce')\n",
    "df = df.dropna(subset=['track_album_release_date'])\n",
    "df.set_index('track_album_release_date', inplace=True)\n",
    "\n",
    "df = df.drop_duplicates()\n",
    "\n",
    "df = df.dropna()\n",
    "\n",
    "df['duration_min'] = df['duration_ms'] / 60000\n",
    "\n",
    "numeric_columns = ['track_popularity', 'danceability', 'energy', 'key', 'loudness', 'mode', 'speechiness', \n",
    "                   'acousticness', 'instrumentalness', 'liveness', 'valence', 'tempo', 'duration_min']\n",
    "\n",
    "pt = PowerTransformer(method='yeo-johnson')\n",
    "df[numeric_columns] = pt.fit_transform(df[numeric_columns])\n",
    "skewness = df[['track_popularity', 'danceability', 'energy', 'key', 'loudness', 'mode', \n",
    "               'speechiness', 'acousticness', 'instrumentalness', 'liveness', 'valence', \n",
    "               'tempo', 'duration_ms']].skew()\n",
    "\n",
    "df_cleaned = df.drop(columns=['track_id', 'track_album_id', 'playlist_name', 'playlist_id', 'playlist_genre'])\n",
    "\n",
    "categorical_columns = ['track_name', 'track_artist', 'track_album_name', 'playlist_subgenre']\n",
    "df_encoded = pd.get_dummies(df_cleaned, columns=categorical_columns, drop_first=True)\n",
    "\n",
    "df_encoded.head()\n",
    "\n",
    "skewness"
   ]
  },
  {
   "cell_type": "code",
   "execution_count": 49,
   "id": "91c2b002-4358-4569-a93b-45d565586f4b",
   "metadata": {},
   "outputs": [],
   "source": [
    "numeric_columns = ['danceability', 'energy', 'key', 'loudness', 'mode', 'speechiness', 'acousticness', 'instrumentalness', 'liveness', 'valence', 'tempo', 'duration_ms', 'track_popularity']\n",
    "\n",
    "scaler = StandardScaler()\n",
    "data = scaler.fit_transform(df[numeric_columns])\n"
   ]
  },
  {
   "cell_type": "code",
   "execution_count": 41,
   "id": "a8c903b6-c72f-4cf6-9bff-0e56bd2635fa",
   "metadata": {},
   "outputs": [],
   "source": [
    "X_train, X_temp, y_train, y_temp = train_test_split(X, y, test_size=0.2, random_state=42)\n",
    "X_val, X_test, y_val, y_test = train_test_split(X_temp, y_temp, test_size=0.5, random_state=42)\n",
    "X_train1, X_train2, y_train1, y_train2 = train_test_split(X_train, y_train, test_size=0.2, random_state=42)\n"
   ]
  },
  {
   "cell_type": "code",
   "execution_count": 42,
   "id": "5517f46c-2bfc-4b01-8694-d572e9228349",
   "metadata": {},
   "outputs": [],
   "source": [
    "import numpy as np\n",
    "import pandas as pd\n",
    "from sklearn import linear_model\n",
    "from sklearn.model_selection import train_test_split, GridSearchCV\n",
    "from sklearn.preprocessing import StandardScaler\n",
    "from sklearn.model_selection import cross_val_score\n",
    "from sklearn.neighbors import KNeighborsRegressor\n",
    "from sklearn.gaussian_process import GaussianProcessRegressor\n",
    "from sklearn.gaussian_process.kernels import RBF, WhiteKernel, ConstantKernel"
   ]
  },
  {
   "cell_type": "code",
   "execution_count": 43,
   "id": "9fe6aace-bf9b-41b6-92b8-993d018f20f1",
   "metadata": {},
   "outputs": [],
   "source": [
    "#for kernel regression\n",
    "kernels = [ConstantKernel(constant_value=1.0) + WhiteKernel(noise_level=1.0),\n",
    "           ConstantKernel() * RBF(length_scale=1.0),\n",
    "           ConstantKernel() * RBF() + WhiteKernel(),\n",
    "           None #default added back\n",
    "          ]"
   ]
  },
  {
   "cell_type": "code",
   "execution_count": 44,
   "id": "c5f6391f-b083-4e14-8dc5-a938e3d85acd",
   "metadata": {},
   "outputs": [],
   "source": [
    "classifiers = [linear_model.LinearRegression(),\n",
    "               linear_model.Lasso(), \n",
    "               linear_model.Ridge(), \n",
    "               KNeighborsRegressor()]\n",
    "parameters = [{'fit_intercept':[True, False], 'positive':[True, False]},\n",
    "            {'alpha':[1, 5, 10, 50, 100, 250, 500, 1000]}, \n",
    "              {'alpha':[0.5, 1, 5, 10, 50, 100, 250, 500]}, \n",
    "              {'n_neighbors':[1, 3, 5, 7, 9, 11], 'p':[1, 2, 3], 'weights':('uniform', 'distance')}]"
   ]
  },
  {
   "cell_type": "code",
   "execution_count": 45,
   "id": "770c65cc-1090-42fd-88d3-f12ed5d3ff42",
   "metadata": {},
   "outputs": [],
   "source": [
    "model_tracking = None\n",
    "\n",
    "for i in np.arange(len(classifiers)):\n",
    "    reg = GridSearchCV(classifiers[i], parameters[i], cv = 5)\n",
    "    reg.fit(X_train, y_train)\n",
    "    training_score = reg.best_score_\n",
    "    test_score = reg.score(X_test, y_test)\n",
    "    best_pars = str(reg.best_params_)\n",
    "    test_predictions = reg.predict(X_test)\n",
    "    test_mse = mean_squared_error(y_test, test_predictions)\n",
    "    \n",
    "    new_row = pd.DataFrame({\n",
    "    'Cross Val Training Score': training_score,\n",
    "    'Test Score': test_score,\n",
    "    'MSE': test_mse,\n",
    "    'Paramaters': best_pars},index=[classifiers[i]])\n",
    "    model_tracking=pd.concat([model_tracking, new_row])"
   ]
  },
  {
   "cell_type": "code",
   "execution_count": 46,
   "id": "bb06286c-2c7b-4b9b-a5aa-220844f89e32",
   "metadata": {},
   "outputs": [
    {
     "data": {
      "text/html": [
       "<div>\n",
       "<style scoped>\n",
       "    .dataframe tbody tr th:only-of-type {\n",
       "        vertical-align: middle;\n",
       "    }\n",
       "\n",
       "    .dataframe tbody tr th {\n",
       "        vertical-align: top;\n",
       "    }\n",
       "\n",
       "    .dataframe thead th {\n",
       "        text-align: right;\n",
       "    }\n",
       "</style>\n",
       "<table border=\"1\" class=\"dataframe\">\n",
       "  <thead>\n",
       "    <tr style=\"text-align: right;\">\n",
       "      <th></th>\n",
       "      <th>Cross Val Training Score</th>\n",
       "      <th>Test Score</th>\n",
       "      <th>MSE</th>\n",
       "      <th>Paramaters</th>\n",
       "    </tr>\n",
       "  </thead>\n",
       "  <tbody>\n",
       "    <tr>\n",
       "      <th>LinearRegression()</th>\n",
       "      <td>0.076886</td>\n",
       "      <td>0.077402</td>\n",
       "      <td>0.945369</td>\n",
       "      <td>{'fit_intercept': False, 'positive': False}</td>\n",
       "    </tr>\n",
       "    <tr>\n",
       "      <th>Lasso()</th>\n",
       "      <td>-0.000451</td>\n",
       "      <td>-0.000210</td>\n",
       "      <td>1.024896</td>\n",
       "      <td>{'alpha': 1}</td>\n",
       "    </tr>\n",
       "    <tr>\n",
       "      <th>Ridge()</th>\n",
       "      <td>0.076769</td>\n",
       "      <td>0.077252</td>\n",
       "      <td>0.945522</td>\n",
       "      <td>{'alpha': 50}</td>\n",
       "    </tr>\n",
       "    <tr>\n",
       "      <th>KNeighborsRegressor()</th>\n",
       "      <td>0.163024</td>\n",
       "      <td>0.149977</td>\n",
       "      <td>0.871002</td>\n",
       "      <td>{'n_neighbors': 11, 'p': 3, 'weights': 'distan...</td>\n",
       "    </tr>\n",
       "  </tbody>\n",
       "</table>\n",
       "</div>"
      ],
      "text/plain": [
       "                       Cross Val Training Score  Test Score       MSE  \\\n",
       "LinearRegression()                     0.076886    0.077402  0.945369   \n",
       "Lasso()                               -0.000451   -0.000210  1.024896   \n",
       "Ridge()                                0.076769    0.077252  0.945522   \n",
       "KNeighborsRegressor()                  0.163024    0.149977  0.871002   \n",
       "\n",
       "                                                              Paramaters  \n",
       "LinearRegression()           {'fit_intercept': False, 'positive': False}  \n",
       "Lasso()                                                     {'alpha': 1}  \n",
       "Ridge()                                                    {'alpha': 50}  \n",
       "KNeighborsRegressor()  {'n_neighbors': 11, 'p': 3, 'weights': 'distan...  "
      ]
     },
     "execution_count": 46,
     "metadata": {},
     "output_type": "execute_result"
    }
   ],
   "source": [
    "model_tracking"
   ]
  },
  {
   "cell_type": "code",
   "execution_count": null,
   "id": "2d1cdb34-752d-44ce-8ab8-249e0e23ce0b",
   "metadata": {},
   "outputs": [],
   "source": [
    "from sklearn.model_selection import GridSearchCV\n",
    "\n",
    "param_grid = {\n",
    "    'n_estimators': [100, 200, 300],\n",
    "    'max_features': ['auto', 'sqrt', 'log2'],\n",
    "    'max_depth': [None, 10, 20, 30],\n",
    "    'min_samples_split': [2, 5, 10],\n",
    "    'min_samples_leaf': [1, 2, 4]\n",
    "}\n",
    "\n",
    "grid_search = GridSearchCV(estimator=RandomForestRegressor(random_state=42),\n",
    "                           param_grid=param_grid,\n",
    "                           cv=5,\n",
    "                           n_jobs=-1,\n",
    "                           verbose=2)\n",
    "\n",
    "grid_search.fit(X_train, y_train)\n",
    "\n",
    "best_params = grid_search.best_params_\n",
    "print(\"Best parameters from Grid Search:\", best_params)\n",
    "\n",
    "best_rf = RandomForestRegressor(**best_params, random_state=42)\n",
    "best_rf.fit(X_train, y_train)\n",
    "\n",
    "test_predictions = best_rf.predict(X_test)\n",
    "test_mse = mean_squared_error(y_test, test_predictions)\n",
    "print(\"Test MSE of the best Random Forest model:\", test_mse)\n",
    "\n",
    "importances = best_rf.feature_importances_\n",
    "feature_importance_df = pd.DataFrame({'Feature': numeric_columns, 'Importance': importances})\n",
    "feature_importance_df = feature_importance_df.sort_values(by='Importance', ascending=False)\n",
    "print(feature_importance_df)\n"
   ]
  },
  {
   "cell_type": "code",
   "execution_count": null,
   "id": "f40ba3f1-0b2b-4c4e-9b3a-b7459317bdc5",
   "metadata": {},
   "outputs": [],
   "source": []
  }
 ],
 "metadata": {
  "kernelspec": {
   "display_name": "Python 3 (ipykernel)",
   "language": "python",
   "name": "python3"
  },
  "language_info": {
   "codemirror_mode": {
    "name": "ipython",
    "version": 3
   },
   "file_extension": ".py",
   "mimetype": "text/x-python",
   "name": "python",
   "nbconvert_exporter": "python",
   "pygments_lexer": "ipython3",
   "version": "3.11.7"
  }
 },
 "nbformat": 4,
 "nbformat_minor": 5
}
